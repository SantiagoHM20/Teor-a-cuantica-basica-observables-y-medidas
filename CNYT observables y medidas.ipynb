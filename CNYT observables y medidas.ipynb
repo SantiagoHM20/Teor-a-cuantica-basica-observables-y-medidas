{
 "cells": [
  {
   "cell_type": "code",
   "execution_count": 11,
   "metadata": {},
   "outputs": [
    {
     "name": "stdout",
     "output_type": "stream",
     "text": [
      "Ket 1 normalizado: [[0.09407209+0.37628835j]\n",
      " [0.47036043-0.56443252j]\n",
      " [0.18814417+0.j        ]\n",
      " [0.47036043+0.j        ]\n",
      " [0.        +0.09407209j]\n",
      " [0.18814417-0.09407209j]]\n",
      "Ket 2 normalizado: [[0.14322297+0.35805744j]\n",
      " [0.50128041+0.07161149j]\n",
      " [0.35805744+0.j        ]\n",
      " [0.64450339-0.14322297j]\n",
      " [0.        +0.07161149j]\n",
      " [0.07161149-0.14322297j]]\n",
      "Probabilidad de estado en índice 5: [4.42477876]%\n",
      "Amplitud de transición: [[0.60276832]]\n"
     ]
    }
   ],
   "source": [
    "import numpy as np\n",
    "\n",
    "ket1 = np.array([[1 + 4j], [5 - 6j], [2], [5], [1j], [2 - 1j]])\n",
    "ket2 = np.array([[2 + 5j], [7 + 1j], [5], [9 - 2j], [1j], [1 - 2j]])\n",
    "\n",
    "def normalizar(vector):\n",
    "    norma = np.linalg.norm(vector)  \n",
    "    if norma != 0: \n",
    "        lista_normalizada = vector / norma \n",
    "        return lista_normalizada\n",
    "    else:\n",
    "        return vector\n",
    "\n",
    "def probabilidades(indice, vector):\n",
    "    norma = np.linalg.norm(vector)  \n",
    "    indice_cuadrado = np.abs(vector[indice])**2  \n",
    "    return (indice_cuadrado / norma**2 ) *100\n",
    "\n",
    "def amplitud_transicion(vector1, vector2):\n",
    "    p_interno = np.dot(vector2.T.conj(), vector1) \n",
    "    norma_cuadrada = np.abs(p_interno)**2  \n",
    "    return norma_cuadrada\n",
    "\n",
    "ket1_normalizado = normalizar(ket1)\n",
    "ket2_normalizado = normalizar(ket2)\n",
    "\n",
    "print(\"Ket 1 normalizado:\", ket1_normalizado)\n",
    "print(\"Ket 2 normalizado:\", ket2_normalizado)\n",
    "\n",
    "indice = int(input(\"posición del vector a sacarle su probabilidad:\")) \n",
    "if indice > len(ket1):\n",
    "    print(\"posicion fuera de rango\")\n",
    "else:\n",
    "    prob = probabilidades(indice, ket1_normalizado)\n",
    "    print(f\"Probabilidad de estado en índice {indice}: {prob}\"+\"%\")\n",
    "\n",
    "    amplitud = amplitud_transicion(ket1_normalizado, ket2_normalizado)\n",
    "    print(f\"Amplitud de transición: {amplitud}\")\n"
   ]
  }
 ],
 "metadata": {
  "kernelspec": {
   "display_name": ".venv",
   "language": "python",
   "name": "python3"
  },
  "language_info": {
   "codemirror_mode": {
    "name": "ipython",
    "version": 3
   },
   "file_extension": ".py",
   "mimetype": "text/x-python",
   "name": "python",
   "nbconvert_exporter": "python",
   "pygments_lexer": "ipython3",
   "version": "3.11.6"
  }
 },
 "nbformat": 4,
 "nbformat_minor": 2
}
